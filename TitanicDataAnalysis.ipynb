{
 "cells": [
  {
   "cell_type": "code",
   "execution_count": 1,
   "id": "71dc1ff1",
   "metadata": {},
   "outputs": [],
   "source": [
    "#importing libraries to use along the process"
   ]
  },
  {
   "cell_type": "code",
   "execution_count": 2,
   "id": "bbaf577f",
   "metadata": {},
   "outputs": [],
   "source": [
    "import numpy as np\n",
    "import pandas as pd\n",
    "import seaborn as sns\n",
    "import matplotlib.pyplot as plt"
   ]
  },
  {
   "cell_type": "code",
   "execution_count": 4,
   "id": "8d26f1fa",
   "metadata": {},
   "outputs": [],
   "source": [
    "#reading our data "
   ]
  },
  {
   "cell_type": "code",
   "execution_count": 4,
   "id": "45f604b7",
   "metadata": {},
   "outputs": [],
   "source": [
    "TD = pd.read_csv(r\"C:\\Users\\Mohsen\\titanic_data.csv\")"
   ]
  },
  {
   "cell_type": "code",
   "execution_count": 6,
   "id": "304fdc91",
   "metadata": {},
   "outputs": [],
   "source": [
    "# I'll Start by wrangling and cleaning our data\n",
    "# I could see some empty cells in the age column so i decided to fill them with the average age for the remaining passengers\n",
    "# also for the empty celss in the cabin column i will replace them with N/A"
   ]
  },
  {
   "cell_type": "code",
   "execution_count": 21,
   "id": "581ab3da",
   "metadata": {},
   "outputs": [],
   "source": [
    "#replacing empty cells in the age column with the age mean\n",
    "\n",
    "\n",
    "TD['Age'].fillna(TD['Age'].mean(), inplace=True)"
   ]
  },
  {
   "cell_type": "code",
   "execution_count": 22,
   "id": "55728aaf",
   "metadata": {},
   "outputs": [],
   "source": [
    "#replacing empty cells in the cabin column with N/A\n",
    "\n",
    "TD['Cabin'].fillna('N/A', inplace=True)"
   ]
  },
  {
   "cell_type": "code",
   "execution_count": 49,
   "id": "61957c6f",
   "metadata": {},
   "outputs": [],
   "source": [
    "#rounding age to the nearest integers\n",
    "\n",
    "TD['Age'] = TD['Age'].round(1)"
   ]
  },
  {
   "cell_type": "code",
   "execution_count": 17,
   "id": "c5fb820c",
   "metadata": {},
   "outputs": [
    {
     "data": {
      "text/plain": [
       "<seaborn.axisgrid.FacetGrid at 0x1ef92405280>"
      ]
     },
     "execution_count": 17,
     "metadata": {},
     "output_type": "execute_result"
    },
    {
     "data": {
      "image/png": "[encoded data removed]",
      "text/plain": [
       "<Figure size 402.375x360 with 1 Axes>"
      ]
     },
     "metadata": {
      "needs_background": "light"
     },
     "output_type": "display_data"
    }
   ],
   "source": [
    "# Now let's seperate the genders by classes, we can use the 'hue' arguement here!\n",
    "\n",
    "sns.catplot('Sex', data=TD, kind=\"count\", hue='Pclass')"
   ]
  },
  {
   "cell_type": "code",
   "execution_count": 20,
   "id": "b489f8e5",
   "metadata": {},
   "outputs": [],
   "source": [
    "survivedpassengers = TD.groupby('Survived')"
   ]
  },
  {
   "cell_type": "code",
   "execution_count": 21,
   "id": "269eeedf",
   "metadata": {},
   "outputs": [
    {
     "data": {
      "text/plain": [
       "PassengerId    38.383838\n",
       "Survived       38.383838\n",
       "Pclass         38.383838\n",
       "Name           38.383838\n",
       "Sex            38.383838\n",
       "Age            40.616246\n",
       "SibSp          38.383838\n",
       "Parch          38.383838\n",
       "Ticket         38.383838\n",
       "Fare           38.383838\n",
       "Cabin          66.666667\n",
       "Embarked       38.245219\n",
       "dtype: float64"
      ]
     },
     "execution_count": 21,
     "metadata": {},
     "output_type": "execute_result"
    }
   ],
   "source": [
    "# at first I need to find the percentage of passengers that have not survived\n",
    "# I have found that 38.8 % of the passengers have survived\n",
    "\n",
    "(survivedpassengers.get_group(1).count('index') / TD.count()) * 100"
   ]
  },
  {
   "cell_type": "code",
   "execution_count": 22,
   "id": "eeee2b3d",
   "metadata": {},
   "outputs": [
    {
     "data": {
      "text/plain": [
       "<AxesSubplot:>"
      ]
     },
     "execution_count": 22,
     "metadata": {},
     "output_type": "execute_result"
    },
    {
     "data": {
      "image/png": "[encoded data removed]",
      "text/plain": [
       "<Figure size 432x288 with 1 Axes>"
      ]
     },
     "metadata": {
      "needs_background": "light"
     },
     "output_type": "display_data"
    }
   ],
   "source": [
    "# By looking at this graph we can find that the majority of survived passengers are young people which was expected because \n",
    "# they are the majority anyway\n",
    "survivedpassengers.get_group(1)['Age'].hist()"
   ]
  },
  {
   "cell_type": "code",
   "execution_count": 23,
   "id": "fbb94621",
   "metadata": {},
   "outputs": [
    {
     "data": {
      "text/plain": [
       "0    68.237935\n",
       "1    23.456790\n",
       "2     3.142536\n",
       "4     2.020202\n",
       "3     1.795735\n",
       "8     0.785634\n",
       "5     0.561167\n",
       "Name: SibSp, dtype: float64"
      ]
     },
     "execution_count": 23,
     "metadata": {},
     "output_type": "execute_result"
    }
   ],
   "source": [
    "# Percentage of passengers with siblings as follows \n",
    "TD['SibSp'].value_counts(normalize=True) * 100"
   ]
  },
  {
   "cell_type": "code",
   "execution_count": 24,
   "id": "677df1ba",
   "metadata": {},
   "outputs": [
    {
     "data": {
      "text/plain": [
       "0    61.403509\n",
       "1    32.748538\n",
       "2     3.801170\n",
       "3     1.169591\n",
       "4     0.877193\n",
       "Name: SibSp, dtype: float64"
      ]
     },
     "execution_count": 24,
     "metadata": {},
     "output_type": "execute_result"
    }
   ],
   "source": [
    "survived = survivedpassengers.get_group(1)\n",
    "# I will start bby grouping buy survived people by the number of siblings or spouses\n",
    "\n",
    "siblings_and_spouses = survived.groupby('SibSp')\n",
    "survived['SibSp'].value_counts(normalize=True) * 100\n",
    "\n",
    "#we found out that around 61% of the survived passengers didn't have any siblings on board "
   ]
  },
  {
   "cell_type": "code",
   "execution_count": 25,
   "id": "3553018f",
   "metadata": {},
   "outputs": [
    {
     "data": {
      "text/plain": [
       "3    55.106622\n",
       "1    24.242424\n",
       "2    20.650954\n",
       "Name: Pclass, dtype: float64"
      ]
     },
     "execution_count": 25,
     "metadata": {},
     "output_type": "execute_result"
    }
   ],
   "source": [
    "# you can see here percentage of passengers according to their social level\n",
    "TD['Pclass'].value_counts(normalize=True) * 100"
   ]
  },
  {
   "cell_type": "code",
   "execution_count": 26,
   "id": "34db154f",
   "metadata": {},
   "outputs": [
    {
     "data": {
      "text/plain": [
       "Survived  Pclass\n",
       "0         3         67.759563\n",
       "          2         17.668488\n",
       "          1         14.571949\n",
       "1         1         39.766082\n",
       "          3         34.795322\n",
       "          2         25.438596\n",
       "Name: Pclass, dtype: float64"
      ]
     },
     "execution_count": 26,
     "metadata": {},
     "output_type": "execute_result"
    }
   ],
   "source": [
    "# now let's the same percentage among survived passengers\n",
    "# the below data shows clearly that first class citizens had the first priority to be saved \n",
    "# and that third class citizens \n",
    "survivedpassengers['Pclass'].value_counts(normalize=True) * 100"
   ]
  },
  {
   "cell_type": "code",
   "execution_count": 27,
   "id": "6fb4ccfb",
   "metadata": {},
   "outputs": [
    {
     "data": {
      "text/plain": [
       "male      64.758698\n",
       "female    35.241302\n",
       "Name: Sex, dtype: float64"
      ]
     },
     "execution_count": 27,
     "metadata": {},
     "output_type": "execute_result"
    }
   ],
   "source": [
    "#male and female percentages\n",
    "TD['Sex'].value_counts(normalize=True) * 100"
   ]
  },
  {
   "cell_type": "code",
   "execution_count": 30,
   "id": "d586f083",
   "metadata": {},
   "outputs": [
    {
     "data": {
      "text/plain": [
       "Survived  Sex   \n",
       "0         male      85.245902\n",
       "          female    14.754098\n",
       "1         female    68.128655\n",
       "          male      31.871345\n",
       "Name: Sex, dtype: float64"
      ]
     },
     "execution_count": 30,
     "metadata": {},
     "output_type": "execute_result"
    }
   ],
   "source": [
    "# these percentages shows clearly that females were prioritised ove males \n",
    "survivedpassengers['Sex'].value_counts(normalize=True) * 100"
   ]
  },
  {
   "cell_type": "code",
   "execution_count": 35,
   "id": "91fec29a",
   "metadata": {},
   "outputs": [
    {
     "name": "stderr",
     "output_type": "stream",
     "text": [
      "C:\\Users\\Mohsen\\anaconda3\\lib\\site-packages\\seaborn\\_decorators.py:36: FutureWarning: Pass the following variable as a keyword arg: x. From version 0.12, the only valid positional argument will be `data`, and passing other arguments without an explicit keyword will result in an error or misinterpretation.\n",
      "  warnings.warn(\n"
     ]
    },
    {
     "data": {
      "text/plain": [
       "<seaborn.axisgrid.FacetGrid at 0x1ef92651220>"
      ]
     },
     "execution_count": 35,
     "metadata": {},
     "output_type": "execute_result"
    },
    {
     "data": {
      "image/png": "[encoded data removed]",
      "text/plain": [
       "<Figure size 430.5x360 with 1 Axes>"
      ]
     },
     "metadata": {
      "needs_background": "light"
     },
     "output_type": "display_data"
    }
   ],
   "source": [
    "#this graph shows exactly genders separated by their socio-economic level in the survived group \n",
    "# which shows clearly females being prioritised during saving process \n",
    "\n",
    "\n",
    "sns.catplot('Pclass', data=survived, kind=\"count\", hue ='Sex')"
   ]
  },
  {
   "cell_type": "code",
   "execution_count": 38,
   "id": "cf70169d",
   "metadata": {},
   "outputs": [
    {
     "name": "stderr",
     "output_type": "stream",
     "text": [
      "C:\\Users\\Mohsen\\anaconda3\\lib\\site-packages\\seaborn\\_decorators.py:36: FutureWarning: Pass the following variable as a keyword arg: x. From version 0.12, the only valid positional argument will be `data`, and passing other arguments without an explicit keyword will result in an error or misinterpretation.\n",
      "  warnings.warn(\n"
     ]
    },
    {
     "data": {
      "text/plain": [
       "<seaborn.axisgrid.FacetGrid at 0x1ef927266d0>"
      ]
     },
     "execution_count": 38,
     "metadata": {},
     "output_type": "execute_result"
    },
    {
     "data": {
      "image/png": "[encoded data removed]",
      "text/plain": [
       "<Figure size 402.375x360 with 1 Axes>"
      ]
     },
     "metadata": {
      "needs_background": "light"
     },
     "output_type": "display_data"
    }
   ],
   "source": [
    "#this graph shows exactly genders separated by their socio-economic level in the survived group \n",
    "# it shows a noticed female prioritisation over males \n",
    "# Pclass: Pclass-1 had best while Pclass-3 has the worst survival rate.\n",
    "\n",
    "sns.catplot('Sex', data=survived, kind=\"count\", hue ='Pclass')"
   ]
  },
  {
   "cell_type": "code",
   "execution_count": 39,
   "id": "b6920cf3",
   "metadata": {},
   "outputs": [],
   "source": [
    "#Conclsion:\n",
    "#Our complete analysis mainly covered three factors in this anlysis (Age, Sex, Pclass).\n",
    "#Age: Doesn't play much role in determining the survival chances, except for ages below 1 years.\n",
    "#Sex: Women had better chances of survival than men.\n",
    "#Pclass: Pclass-1 had best while Pclass-3 has the worst survival rate.\n",
    "#So we can say, that being a women in Pclass-1 seems to have the best chances of survival.\n",
    "#However being a woman could not be considered as 100% survival chance.\n",
    "\n"
   ]
  },
  {
   "cell_type": "code",
   "execution_count": null,
   "id": "11a432e3",
   "metadata": {},
   "outputs": [],
   "source": []
  }
 ],
 "metadata": {
  "kernelspec": {
   "display_name": "Python 3",
   "language": "python",
   "name": "python3"
  },
  "language_info": {
   "codemirror_mode": {
    "name": "ipython",
    "version": 3
   },
   "file_extension": ".py",
   "mimetype": "text/x-python",
   "name": "python",
   "nbconvert_exporter": "python",
   "pygments_lexer": "ipython3",
   "version": "3.8.8"
  }
 },
 "nbformat": 4,
 "nbformat_minor": 5
}
